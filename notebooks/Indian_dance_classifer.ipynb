{
  "nbformat": 4,
  "nbformat_minor": 0,
  "metadata": {
    "colab": {
      "provenance": [],
      "collapsed_sections": []
    },
    "kernelspec": {
      "name": "python3",
      "display_name": "Python 3"
    },
    "language_info": {
      "name": "python"
    },
    "accelerator": "GPU"
  },
  "cells": [
    {
      "cell_type": "markdown",
      "source": [
        "# Indian Dance classifier"
      ],
      "metadata": {
        "id": "vQ_WyJlcHTYb"
      }
    },
    {
      "cell_type": "markdown",
      "source": [
        "## Set up"
      ],
      "metadata": {
        "id": "tTTOr01uHZjU"
      }
    },
    {
      "cell_type": "code",
      "execution_count": null,
      "metadata": {
        "id": "8bzTbLc7AluM"
      },
      "outputs": [],
      "source": [
        "import pandas as pd\n",
        "import os, shutil, pathlib\n",
        "from sklearn.model_selection import  train_test_split\n",
        "from tensorflow.keras.utils import image_dataset_from_directory\n",
        "\n",
        "from tensorflow import keras\n",
        "from tensorflow.keras import layers"
      ]
    },
    {
      "cell_type": "markdown",
      "source": [
        "## Loading and organising data"
      ],
      "metadata": {
        "id": "qoN_3WRtHdnz"
      }
    },
    {
      "cell_type": "code",
      "source": [
        "catalog = pd.read_csv(\"/content/drive/MyDrive/dance/train.csv\")\n",
        "catalog.head()"
      ],
      "metadata": {
        "colab": {
          "base_uri": "https://localhost:8080/",
          "height": 206
        },
        "id": "jA1AyEG0CTtw",
        "outputId": "fe045025-d6b9-40e8-adc8-d15ea5f90e05"
      },
      "execution_count": null,
      "outputs": [
        {
          "output_type": "execute_result",
          "data": {
            "text/plain": [
              "     Image         target\n",
              "0   96.jpg       manipuri\n",
              "1  163.jpg  bharatanatyam\n",
              "2  450.jpg         odissi\n",
              "3  219.jpg      kathakali\n",
              "4  455.jpg         odissi"
            ],
            "text/html": [
              "\n",
              "  <div id=\"df-a33c9cdc-8e38-426e-957e-23f37bec40bb\">\n",
              "    <div class=\"colab-df-container\">\n",
              "      <div>\n",
              "<style scoped>\n",
              "    .dataframe tbody tr th:only-of-type {\n",
              "        vertical-align: middle;\n",
              "    }\n",
              "\n",
              "    .dataframe tbody tr th {\n",
              "        vertical-align: top;\n",
              "    }\n",
              "\n",
              "    .dataframe thead th {\n",
              "        text-align: right;\n",
              "    }\n",
              "</style>\n",
              "<table border=\"1\" class=\"dataframe\">\n",
              "  <thead>\n",
              "    <tr style=\"text-align: right;\">\n",
              "      <th></th>\n",
              "      <th>Image</th>\n",
              "      <th>target</th>\n",
              "    </tr>\n",
              "  </thead>\n",
              "  <tbody>\n",
              "    <tr>\n",
              "      <th>0</th>\n",
              "      <td>96.jpg</td>\n",
              "      <td>manipuri</td>\n",
              "    </tr>\n",
              "    <tr>\n",
              "      <th>1</th>\n",
              "      <td>163.jpg</td>\n",
              "      <td>bharatanatyam</td>\n",
              "    </tr>\n",
              "    <tr>\n",
              "      <th>2</th>\n",
              "      <td>450.jpg</td>\n",
              "      <td>odissi</td>\n",
              "    </tr>\n",
              "    <tr>\n",
              "      <th>3</th>\n",
              "      <td>219.jpg</td>\n",
              "      <td>kathakali</td>\n",
              "    </tr>\n",
              "    <tr>\n",
              "      <th>4</th>\n",
              "      <td>455.jpg</td>\n",
              "      <td>odissi</td>\n",
              "    </tr>\n",
              "  </tbody>\n",
              "</table>\n",
              "</div>\n",
              "      <button class=\"colab-df-convert\" onclick=\"convertToInteractive('df-a33c9cdc-8e38-426e-957e-23f37bec40bb')\"\n",
              "              title=\"Convert this dataframe to an interactive table.\"\n",
              "              style=\"display:none;\">\n",
              "        \n",
              "  <svg xmlns=\"http://www.w3.org/2000/svg\" height=\"24px\"viewBox=\"0 0 24 24\"\n",
              "       width=\"24px\">\n",
              "    <path d=\"M0 0h24v24H0V0z\" fill=\"none\"/>\n",
              "    <path d=\"M18.56 5.44l.94 2.06.94-2.06 2.06-.94-2.06-.94-.94-2.06-.94 2.06-2.06.94zm-11 1L8.5 8.5l.94-2.06 2.06-.94-2.06-.94L8.5 2.5l-.94 2.06-2.06.94zm10 10l.94 2.06.94-2.06 2.06-.94-2.06-.94-.94-2.06-.94 2.06-2.06.94z\"/><path d=\"M17.41 7.96l-1.37-1.37c-.4-.4-.92-.59-1.43-.59-.52 0-1.04.2-1.43.59L10.3 9.45l-7.72 7.72c-.78.78-.78 2.05 0 2.83L4 21.41c.39.39.9.59 1.41.59.51 0 1.02-.2 1.41-.59l7.78-7.78 2.81-2.81c.8-.78.8-2.07 0-2.86zM5.41 20L4 18.59l7.72-7.72 1.47 1.35L5.41 20z\"/>\n",
              "  </svg>\n",
              "      </button>\n",
              "      \n",
              "  <style>\n",
              "    .colab-df-container {\n",
              "      display:flex;\n",
              "      flex-wrap:wrap;\n",
              "      gap: 12px;\n",
              "    }\n",
              "\n",
              "    .colab-df-convert {\n",
              "      background-color: #E8F0FE;\n",
              "      border: none;\n",
              "      border-radius: 50%;\n",
              "      cursor: pointer;\n",
              "      display: none;\n",
              "      fill: #1967D2;\n",
              "      height: 32px;\n",
              "      padding: 0 0 0 0;\n",
              "      width: 32px;\n",
              "    }\n",
              "\n",
              "    .colab-df-convert:hover {\n",
              "      background-color: #E2EBFA;\n",
              "      box-shadow: 0px 1px 2px rgba(60, 64, 67, 0.3), 0px 1px 3px 1px rgba(60, 64, 67, 0.15);\n",
              "      fill: #174EA6;\n",
              "    }\n",
              "\n",
              "    [theme=dark] .colab-df-convert {\n",
              "      background-color: #3B4455;\n",
              "      fill: #D2E3FC;\n",
              "    }\n",
              "\n",
              "    [theme=dark] .colab-df-convert:hover {\n",
              "      background-color: #434B5C;\n",
              "      box-shadow: 0px 1px 3px 1px rgba(0, 0, 0, 0.15);\n",
              "      filter: drop-shadow(0px 1px 2px rgba(0, 0, 0, 0.3));\n",
              "      fill: #FFFFFF;\n",
              "    }\n",
              "  </style>\n",
              "\n",
              "      <script>\n",
              "        const buttonEl =\n",
              "          document.querySelector('#df-a33c9cdc-8e38-426e-957e-23f37bec40bb button.colab-df-convert');\n",
              "        buttonEl.style.display =\n",
              "          google.colab.kernel.accessAllowed ? 'block' : 'none';\n",
              "\n",
              "        async function convertToInteractive(key) {\n",
              "          const element = document.querySelector('#df-a33c9cdc-8e38-426e-957e-23f37bec40bb');\n",
              "          const dataTable =\n",
              "            await google.colab.kernel.invokeFunction('convertToInteractive',\n",
              "                                                     [key], {});\n",
              "          if (!dataTable) return;\n",
              "\n",
              "          const docLinkHtml = 'Like what you see? Visit the ' +\n",
              "            '<a target=\"_blank\" href=https://colab.research.google.com/notebooks/data_table.ipynb>data table notebook</a>'\n",
              "            + ' to learn more about interactive tables.';\n",
              "          element.innerHTML = '';\n",
              "          dataTable['output_type'] = 'display_data';\n",
              "          await google.colab.output.renderOutput(dataTable, element);\n",
              "          const docLink = document.createElement('div');\n",
              "          docLink.innerHTML = docLinkHtml;\n",
              "          element.appendChild(docLink);\n",
              "        }\n",
              "      </script>\n",
              "    </div>\n",
              "  </div>\n",
              "  "
            ]
          },
          "metadata": {},
          "execution_count": 131
        }
      ]
    },
    {
      "cell_type": "code",
      "source": [
        "catalog.target.value_counts()"
      ],
      "metadata": {
        "colab": {
          "base_uri": "https://localhost:8080/"
        },
        "id": "iayayrrjCZed",
        "outputId": "fe69e4fd-605b-49c9-c729-21a0c426e6fd"
      },
      "execution_count": null,
      "outputs": [
        {
          "output_type": "execute_result",
          "data": {
            "text/plain": [
              "mohiniyattam     50\n",
              "odissi           49\n",
              "bharatanatyam    47\n",
              "kathakali        47\n",
              "kuchipudi        46\n",
              "sattriya         45\n",
              "kathak           44\n",
              "manipuri         36\n",
              "Name: target, dtype: int64"
            ]
          },
          "metadata": {},
          "execution_count": 132
        }
      ]
    },
    {
      "cell_type": "code",
      "source": [
        "catalog.shape\n"
      ],
      "metadata": {
        "colab": {
          "base_uri": "https://localhost:8080/"
        },
        "id": "prDu4JUnClV8",
        "outputId": "03432cd0-94b8-400e-8eb6-677b8cc0cb72"
      },
      "execution_count": null,
      "outputs": [
        {
          "output_type": "execute_result",
          "data": {
            "text/plain": [
              "(364, 2)"
            ]
          },
          "metadata": {},
          "execution_count": 133
        }
      ]
    },
    {
      "cell_type": "markdown",
      "source": [
        "### Creating train, validation and test sets"
      ],
      "metadata": {
        "id": "s4HPy-4NHnXh"
      }
    },
    {
      "cell_type": "code",
      "source": [
        "X = catalog.Image\n",
        "y = catalog.target"
      ],
      "metadata": {
        "id": "DEkdBvCfR_Wl"
      },
      "execution_count": null,
      "outputs": []
    },
    {
      "cell_type": "code",
      "source": [
        "X_train, X_test, y_train, y_test = train_test_split(X, y, test_size = 0.1, stratify = y)\n",
        "X_train, X_val, y_train, y_val = train_test_split(X_train, y_train, test_size = 0.2, stratify = y_train)"
      ],
      "metadata": {
        "id": "RiPjuzVoSIdl"
      },
      "execution_count": null,
      "outputs": []
    },
    {
      "cell_type": "code",
      "source": [
        "y_train.shape, y_val.shape, y_test.shape"
      ],
      "metadata": {
        "colab": {
          "base_uri": "https://localhost:8080/"
        },
        "id": "XpGcB-XQ-Pjr",
        "outputId": "e4157bf3-3e6b-4cb8-e740-9a0895f4c9fa"
      },
      "execution_count": null,
      "outputs": [
        {
          "output_type": "execute_result",
          "data": {
            "text/plain": [
              "((261,), (66,), (37,))"
            ]
          },
          "metadata": {},
          "execution_count": 138
        }
      ]
    },
    {
      "cell_type": "code",
      "source": [
        "original_dir = pathlib.Path(\"/content/drive/MyDrive/dance/train\")\n",
        "new_base_dir = pathlib.Path(\"/content/drive/MyDrive/dance/data\")\n",
        "\n",
        "def make_subset(subset_name, X, y):\n",
        "  for category in y.unique():\n",
        "    indices = y[y == category].index\n",
        "    dir = new_base_dir / subset_name / category\n",
        "    os.makedirs(dir)\n",
        "    for i, fname in enumerate(X[indices]):\n",
        "      new_fname = f\"{category}.{i}.jpg\"\n",
        "      shutil.copyfile(src = original_dir / fname,\n",
        "                      dst = dir / new_fname)\n",
        "      \n",
        "make_subset(\"train\", X_train, y_train)\n",
        "make_subset(\"validation\", X_val, y_val)\n",
        "make_subset(\"test\", X_test, y_test)"
      ],
      "metadata": {
        "id": "b95B-w9rF8zu"
      },
      "execution_count": null,
      "outputs": []
    },
    {
      "cell_type": "code",
      "source": [
        "new_base_dir = pathlib.Path(\"/content/drive/MyDrive/dance/data\")\n",
        "\n",
        "train_dataset = image_dataset_from_directory(\n",
        "    new_base_dir / \"train\",\n",
        "    image_size = (180, 180),\n",
        "    batch_size = 16\n",
        ")\n",
        "\n",
        "validation_dataset = image_dataset_from_directory(\n",
        "    new_base_dir / \"validation\",\n",
        "    image_size = (180, 180),\n",
        "    batch_size = 16\n",
        ")\n",
        "\n",
        "test_dataset = image_dataset_from_directory(\n",
        "    new_base_dir / \"test\",\n",
        "    image_size = (180, 180),\n",
        "    batch_size = 16\n",
        ")"
      ],
      "metadata": {
        "colab": {
          "base_uri": "https://localhost:8080/"
        },
        "id": "8FwVO4cKaakI",
        "outputId": "81849d17-9152-4422-d62f-71869d5bf18e"
      },
      "execution_count": null,
      "outputs": [
        {
          "output_type": "stream",
          "name": "stdout",
          "text": [
            "Found 261 files belonging to 8 classes.\n",
            "Found 66 files belonging to 8 classes.\n",
            "Found 37 files belonging to 8 classes.\n"
          ]
        }
      ]
    },
    {
      "cell_type": "markdown",
      "source": [
        "## Initialising the pretrained model(VGG16)"
      ],
      "metadata": {
        "id": "gIT0RtVOH1D_"
      }
    },
    {
      "cell_type": "code",
      "source": [
        "#instatiating the VGG 16 convolutional base\n",
        "conv_base = keras.applications.vgg16.VGG16(weights = \"imagenet\",\n",
        "                                          include_top = False,\n",
        "                                          input_shape = (180,180,3))\n",
        "\n",
        "conv_base.summary()"
      ],
      "metadata": {
        "colab": {
          "base_uri": "https://localhost:8080/"
        },
        "id": "R1PLRwIWVwUM",
        "outputId": "6283af8d-0b2d-4451-9463-43f6355ae8fe"
      },
      "execution_count": null,
      "outputs": [
        {
          "output_type": "stream",
          "name": "stdout",
          "text": [
            "Model: \"vgg16\"\n",
            "_________________________________________________________________\n",
            " Layer (type)                Output Shape              Param #   \n",
            "=================================================================\n",
            " input_35 (InputLayer)       [(None, 180, 180, 3)]     0         \n",
            "                                                                 \n",
            " block1_conv1 (Conv2D)       (None, 180, 180, 64)      1792      \n",
            "                                                                 \n",
            " block1_conv2 (Conv2D)       (None, 180, 180, 64)      36928     \n",
            "                                                                 \n",
            " block1_pool (MaxPooling2D)  (None, 90, 90, 64)        0         \n",
            "                                                                 \n",
            " block2_conv1 (Conv2D)       (None, 90, 90, 128)       73856     \n",
            "                                                                 \n",
            " block2_conv2 (Conv2D)       (None, 90, 90, 128)       147584    \n",
            "                                                                 \n",
            " block2_pool (MaxPooling2D)  (None, 45, 45, 128)       0         \n",
            "                                                                 \n",
            " block3_conv1 (Conv2D)       (None, 45, 45, 256)       295168    \n",
            "                                                                 \n",
            " block3_conv2 (Conv2D)       (None, 45, 45, 256)       590080    \n",
            "                                                                 \n",
            " block3_conv3 (Conv2D)       (None, 45, 45, 256)       590080    \n",
            "                                                                 \n",
            " block3_pool (MaxPooling2D)  (None, 22, 22, 256)       0         \n",
            "                                                                 \n",
            " block4_conv1 (Conv2D)       (None, 22, 22, 512)       1180160   \n",
            "                                                                 \n",
            " block4_conv2 (Conv2D)       (None, 22, 22, 512)       2359808   \n",
            "                                                                 \n",
            " block4_conv3 (Conv2D)       (None, 22, 22, 512)       2359808   \n",
            "                                                                 \n",
            " block4_pool (MaxPooling2D)  (None, 11, 11, 512)       0         \n",
            "                                                                 \n",
            " block5_conv1 (Conv2D)       (None, 11, 11, 512)       2359808   \n",
            "                                                                 \n",
            " block5_conv2 (Conv2D)       (None, 11, 11, 512)       2359808   \n",
            "                                                                 \n",
            " block5_conv3 (Conv2D)       (None, 11, 11, 512)       2359808   \n",
            "                                                                 \n",
            " block5_pool (MaxPooling2D)  (None, 5, 5, 512)         0         \n",
            "                                                                 \n",
            "=================================================================\n",
            "Total params: 14,714,688\n",
            "Trainable params: 14,714,688\n",
            "Non-trainable params: 0\n",
            "_________________________________________________________________\n"
          ]
        }
      ]
    },
    {
      "cell_type": "markdown",
      "source": [
        "Lets's make the last two layers of VGG16 trainable for fine tuning"
      ],
      "metadata": {
        "id": "UWAl9gxgH-kv"
      }
    },
    {
      "cell_type": "code",
      "source": [
        "conv_base.trainable = True\n",
        "for layer in conv_base.layers[:-2]:\n",
        "  layer.trainable = False"
      ],
      "metadata": {
        "id": "Z1gOzu-NZxIJ"
      },
      "execution_count": null,
      "outputs": []
    },
    {
      "cell_type": "markdown",
      "source": [
        "## Defining the model with keras functional API"
      ],
      "metadata": {
        "id": "79lOhFCgIaj0"
      }
    },
    {
      "cell_type": "code",
      "source": [
        "data_augmentation = keras.Sequential(\n",
        "    [\n",
        "        layers.RandomFlip(\"horizontal\"),\n",
        "        layers.RandomRotation(0.1),\n",
        "        layers.RandomZoom(0.2)\n",
        "    ]\n",
        ")\n",
        "\n",
        "inputs = keras.Input(shape = (180, 180, 3))\n",
        "x = data_augmentation(inputs)\n",
        "x = keras.applications.vgg16.preprocess_input(x)\n",
        "x = conv_base(x)\n",
        "x = layers.Dense(256, activation=\"relu\")(x)\n",
        "x = layers.Dense(128, activation=\"relu\")(x)\n",
        "x = layers.Flatten()(x)\n",
        "outputs = layers.Dense(8, activation=\"softmax\")(x)\n",
        "\n",
        "model = keras.Model(inputs, outputs)"
      ],
      "metadata": {
        "id": "0djAjFl5bLK6"
      },
      "execution_count": null,
      "outputs": []
    },
    {
      "cell_type": "code",
      "source": [
        "model.summary()"
      ],
      "metadata": {
        "colab": {
          "base_uri": "https://localhost:8080/"
        },
        "id": "Y5KjsDsKlvBk",
        "outputId": "40632eda-8b38-490b-a8b9-9e8dafd07aa2"
      },
      "execution_count": null,
      "outputs": [
        {
          "output_type": "stream",
          "name": "stdout",
          "text": [
            "Model: \"model_28\"\n",
            "_________________________________________________________________\n",
            " Layer (type)                Output Shape              Param #   \n",
            "=================================================================\n",
            " input_36 (InputLayer)       [(None, 180, 180, 3)]     0         \n",
            "                                                                 \n",
            " sequential_28 (Sequential)  (None, 180, 180, 3)       0         \n",
            "                                                                 \n",
            " tf.__operators__.getitem_28  (None, 180, 180, 3)      0         \n",
            "  (SlicingOpLambda)                                              \n",
            "                                                                 \n",
            " tf.nn.bias_add_28 (TFOpLamb  (None, 180, 180, 3)      0         \n",
            " da)                                                             \n",
            "                                                                 \n",
            " vgg16 (Functional)          (None, 5, 5, 512)         14714688  \n",
            "                                                                 \n",
            " dense_73 (Dense)            (None, 5, 5, 256)         131328    \n",
            "                                                                 \n",
            " dense_74 (Dense)            (None, 5, 5, 128)         32896     \n",
            "                                                                 \n",
            " flatten_24 (Flatten)        (None, 3200)              0         \n",
            "                                                                 \n",
            " dense_75 (Dense)            (None, 8)                 25608     \n",
            "                                                                 \n",
            "=================================================================\n",
            "Total params: 14,904,520\n",
            "Trainable params: 189,832\n",
            "Non-trainable params: 14,714,688\n",
            "_________________________________________________________________\n"
          ]
        }
      ]
    },
    {
      "cell_type": "markdown",
      "source": [
        "## Training"
      ],
      "metadata": {
        "id": "LZa8SHnYIf6l"
      }
    },
    {
      "cell_type": "code",
      "source": [
        "model.compile(loss=\"sparse_categorical_crossentropy\",\n",
        "              optimizer=keras.optimizers.RMSprop(learning_rate=1e-3),\n",
        "              metrics=[\"accuracy\"])\n",
        "\n",
        "callbacks = [\n",
        "    keras.callbacks.ModelCheckpoint(\n",
        "        filepath=\"dance.keras\",\n",
        "        save_best_only=True,\n",
        "        monitor=\"val_loss\")\n",
        "]\n",
        "\n",
        "history = model.fit(\n",
        "    train_dataset,\n",
        "    epochs=50,\n",
        "    validation_data=validation_dataset,\n",
        "    callbacks=callbacks)"
      ],
      "metadata": {
        "colab": {
          "base_uri": "https://localhost:8080/"
        },
        "id": "NJxZ1xCAZ5pt",
        "outputId": "47c985fb-d2db-4a5c-f268-e0890d1d8e61"
      },
      "execution_count": null,
      "outputs": [
        {
          "output_type": "stream",
          "name": "stdout",
          "text": [
            "Epoch 1/50\n",
            "17/17 [==============================] - 5s 119ms/step - loss: 9.8137 - accuracy: 0.2184 - val_loss: 4.3834 - val_accuracy: 0.3333\n",
            "Epoch 2/50\n",
            "17/17 [==============================] - 2s 107ms/step - loss: 2.2451 - accuracy: 0.4789 - val_loss: 2.7352 - val_accuracy: 0.4091\n",
            "Epoch 3/50\n",
            "17/17 [==============================] - 2s 95ms/step - loss: 1.3580 - accuracy: 0.6054 - val_loss: 2.9711 - val_accuracy: 0.4545\n",
            "Epoch 4/50\n",
            "17/17 [==============================] - 2s 93ms/step - loss: 1.1054 - accuracy: 0.6705 - val_loss: 3.3315 - val_accuracy: 0.4697\n",
            "Epoch 5/50\n",
            "17/17 [==============================] - 2s 95ms/step - loss: 0.7960 - accuracy: 0.7739 - val_loss: 2.9473 - val_accuracy: 0.4545\n",
            "Epoch 6/50\n",
            "17/17 [==============================] - 2s 96ms/step - loss: 0.6481 - accuracy: 0.8046 - val_loss: 3.9395 - val_accuracy: 0.4545\n",
            "Epoch 7/50\n",
            "17/17 [==============================] - 2s 108ms/step - loss: 0.5335 - accuracy: 0.8238 - val_loss: 2.4257 - val_accuracy: 0.5909\n",
            "Epoch 8/50\n",
            "17/17 [==============================] - 2s 95ms/step - loss: 0.3714 - accuracy: 0.8621 - val_loss: 2.7674 - val_accuracy: 0.5455\n",
            "Epoch 9/50\n",
            "17/17 [==============================] - 2s 96ms/step - loss: 0.4277 - accuracy: 0.8736 - val_loss: 3.1928 - val_accuracy: 0.6061\n",
            "Epoch 10/50\n",
            "17/17 [==============================] - 2s 94ms/step - loss: 0.2454 - accuracy: 0.9234 - val_loss: 3.0702 - val_accuracy: 0.6364\n",
            "Epoch 11/50\n",
            "17/17 [==============================] - 2s 97ms/step - loss: 0.3740 - accuracy: 0.8927 - val_loss: 3.9289 - val_accuracy: 0.5303\n",
            "Epoch 12/50\n",
            "17/17 [==============================] - 2s 95ms/step - loss: 0.1835 - accuracy: 0.9349 - val_loss: 3.7532 - val_accuracy: 0.6364\n",
            "Epoch 13/50\n",
            "17/17 [==============================] - 2s 93ms/step - loss: 0.2451 - accuracy: 0.9310 - val_loss: 4.0107 - val_accuracy: 0.5455\n",
            "Epoch 14/50\n",
            "17/17 [==============================] - 2s 95ms/step - loss: 0.1545 - accuracy: 0.9502 - val_loss: 3.7938 - val_accuracy: 0.6212\n",
            "Epoch 15/50\n",
            "17/17 [==============================] - 2s 95ms/step - loss: 0.1097 - accuracy: 0.9617 - val_loss: 4.9292 - val_accuracy: 0.5909\n",
            "Epoch 16/50\n",
            "17/17 [==============================] - 2s 96ms/step - loss: 0.2325 - accuracy: 0.9425 - val_loss: 3.7030 - val_accuracy: 0.6061\n",
            "Epoch 17/50\n",
            "17/17 [==============================] - 2s 95ms/step - loss: 0.1526 - accuracy: 0.9387 - val_loss: 4.0276 - val_accuracy: 0.5606\n",
            "Epoch 18/50\n",
            "17/17 [==============================] - 2s 93ms/step - loss: 0.0877 - accuracy: 0.9579 - val_loss: 4.0638 - val_accuracy: 0.6061\n",
            "Epoch 19/50\n",
            "17/17 [==============================] - 2s 92ms/step - loss: 0.1258 - accuracy: 0.9655 - val_loss: 4.3004 - val_accuracy: 0.5303\n",
            "Epoch 20/50\n",
            "17/17 [==============================] - 2s 98ms/step - loss: 0.0843 - accuracy: 0.9847 - val_loss: 4.0210 - val_accuracy: 0.5606\n",
            "Epoch 21/50\n",
            "17/17 [==============================] - 2s 94ms/step - loss: 0.1956 - accuracy: 0.9502 - val_loss: 4.3036 - val_accuracy: 0.6364\n",
            "Epoch 22/50\n",
            "17/17 [==============================] - 2s 92ms/step - loss: 0.0807 - accuracy: 0.9693 - val_loss: 4.9890 - val_accuracy: 0.5303\n",
            "Epoch 23/50\n",
            "17/17 [==============================] - 2s 93ms/step - loss: 0.2092 - accuracy: 0.9387 - val_loss: 5.1162 - val_accuracy: 0.5455\n",
            "Epoch 24/50\n",
            "17/17 [==============================] - 2s 93ms/step - loss: 0.0599 - accuracy: 0.9732 - val_loss: 4.5475 - val_accuracy: 0.5758\n",
            "Epoch 25/50\n",
            "17/17 [==============================] - 2s 93ms/step - loss: 0.2203 - accuracy: 0.9425 - val_loss: 5.3968 - val_accuracy: 0.5606\n",
            "Epoch 26/50\n",
            "17/17 [==============================] - 2s 94ms/step - loss: 0.1341 - accuracy: 0.9770 - val_loss: 6.3528 - val_accuracy: 0.5000\n",
            "Epoch 27/50\n",
            "17/17 [==============================] - 2s 93ms/step - loss: 0.0951 - accuracy: 0.9617 - val_loss: 7.8083 - val_accuracy: 0.5455\n",
            "Epoch 28/50\n",
            "17/17 [==============================] - 2s 93ms/step - loss: 0.0938 - accuracy: 0.9693 - val_loss: 5.7891 - val_accuracy: 0.5606\n",
            "Epoch 29/50\n",
            "17/17 [==============================] - 2s 92ms/step - loss: 0.1348 - accuracy: 0.9617 - val_loss: 5.3809 - val_accuracy: 0.6515\n",
            "Epoch 30/50\n",
            "17/17 [==============================] - 2s 94ms/step - loss: 0.1874 - accuracy: 0.9502 - val_loss: 6.0165 - val_accuracy: 0.5909\n",
            "Epoch 31/50\n",
            "17/17 [==============================] - 2s 94ms/step - loss: 0.0729 - accuracy: 0.9732 - val_loss: 5.2241 - val_accuracy: 0.5758\n",
            "Epoch 32/50\n",
            "17/17 [==============================] - 2s 93ms/step - loss: 0.0910 - accuracy: 0.9808 - val_loss: 5.7217 - val_accuracy: 0.5606\n",
            "Epoch 33/50\n",
            "17/17 [==============================] - 2s 94ms/step - loss: 0.2123 - accuracy: 0.9464 - val_loss: 4.8334 - val_accuracy: 0.6061\n",
            "Epoch 34/50\n",
            "17/17 [==============================] - 2s 93ms/step - loss: 0.0603 - accuracy: 0.9885 - val_loss: 6.0222 - val_accuracy: 0.6212\n",
            "Epoch 35/50\n",
            "17/17 [==============================] - 2s 93ms/step - loss: 0.0428 - accuracy: 0.9808 - val_loss: 6.3823 - val_accuracy: 0.5758\n",
            "Epoch 36/50\n",
            "17/17 [==============================] - 2s 92ms/step - loss: 0.0619 - accuracy: 0.9770 - val_loss: 5.9423 - val_accuracy: 0.6515\n",
            "Epoch 37/50\n",
            "17/17 [==============================] - 2s 93ms/step - loss: 0.0620 - accuracy: 0.9770 - val_loss: 6.0685 - val_accuracy: 0.6061\n",
            "Epoch 38/50\n",
            "17/17 [==============================] - 2s 93ms/step - loss: 0.0555 - accuracy: 0.9885 - val_loss: 7.1240 - val_accuracy: 0.5455\n",
            "Epoch 39/50\n",
            "17/17 [==============================] - 2s 94ms/step - loss: 0.0104 - accuracy: 0.9962 - val_loss: 6.3217 - val_accuracy: 0.6364\n",
            "Epoch 40/50\n",
            "17/17 [==============================] - 2s 94ms/step - loss: 0.0897 - accuracy: 0.9770 - val_loss: 7.7627 - val_accuracy: 0.6061\n",
            "Epoch 41/50\n",
            "17/17 [==============================] - 2s 95ms/step - loss: 0.0600 - accuracy: 0.9808 - val_loss: 7.4649 - val_accuracy: 0.5758\n",
            "Epoch 42/50\n",
            "17/17 [==============================] - 2s 94ms/step - loss: 0.1157 - accuracy: 0.9693 - val_loss: 6.4832 - val_accuracy: 0.6061\n",
            "Epoch 43/50\n",
            "17/17 [==============================] - 2s 93ms/step - loss: 0.0938 - accuracy: 0.9808 - val_loss: 6.5912 - val_accuracy: 0.6061\n",
            "Epoch 44/50\n",
            "17/17 [==============================] - 2s 95ms/step - loss: 0.0227 - accuracy: 0.9962 - val_loss: 6.7776 - val_accuracy: 0.6061\n",
            "Epoch 45/50\n",
            "17/17 [==============================] - 2s 92ms/step - loss: 0.0675 - accuracy: 0.9923 - val_loss: 6.5223 - val_accuracy: 0.5909\n",
            "Epoch 46/50\n",
            "17/17 [==============================] - 2s 94ms/step - loss: 0.0205 - accuracy: 0.9923 - val_loss: 8.2756 - val_accuracy: 0.6061\n",
            "Epoch 47/50\n",
            "17/17 [==============================] - 2s 93ms/step - loss: 0.1856 - accuracy: 0.9617 - val_loss: 6.5450 - val_accuracy: 0.5758\n",
            "Epoch 48/50\n",
            "17/17 [==============================] - 2s 94ms/step - loss: 0.0263 - accuracy: 0.9885 - val_loss: 6.7647 - val_accuracy: 0.6212\n",
            "Epoch 49/50\n",
            "17/17 [==============================] - 2s 94ms/step - loss: 0.1103 - accuracy: 0.9770 - val_loss: 6.5702 - val_accuracy: 0.5758\n",
            "Epoch 50/50\n",
            "17/17 [==============================] - 2s 96ms/step - loss: 0.0473 - accuracy: 0.9847 - val_loss: 7.1947 - val_accuracy: 0.6364\n"
          ]
        }
      ]
    },
    {
      "cell_type": "markdown",
      "source": [
        "## Evaluation"
      ],
      "metadata": {
        "id": "cIp4IOWhIjE5"
      }
    },
    {
      "cell_type": "code",
      "source": [
        "import matplotlib.pyplot as plt\n",
        "acc = history.history[\"accuracy\"]\n",
        "val_acc = history.history[\"val_accuracy\"]\n",
        "loss = history.history[\"loss\"]\n",
        "val_loss = history.history[\"val_loss\"]\n",
        "epochs = range(1, len(acc) + 1)\n",
        "plt.plot(epochs, acc, \"bo\", label=\"Training accuracy\")\n",
        "plt.plot(epochs, val_acc, \"b\", label=\"Validation accuracy\")\n",
        "plt.title(\"Training and validation accuracy\")\n",
        "plt.legend()\n",
        "plt.figure()\n",
        "plt.plot(epochs, loss, \"bo\", label=\"Training loss\")\n",
        "plt.plot(epochs, val_loss, \"b\", label=\"Validation loss\")\n",
        "plt.title(\"Training and validation loss\")\n",
        "plt.legend()\n",
        "plt.show()"
      ],
      "metadata": {
        "colab": {
          "base_uri": "https://localhost:8080/",
          "height": 545
        },
        "id": "9JKP4ShYb4Yd",
        "outputId": "d75a4030-3ef7-44fa-d5e6-658813eaf111"
      },
      "execution_count": null,
      "outputs": [
        {
          "output_type": "display_data",
          "data": {
            "text/plain": [
              "<Figure size 432x288 with 1 Axes>"
            ],
            "image/png": "[encoded data removed]"
          },
          "metadata": {
            "needs_background": "light"
          }
        },
        {
          "output_type": "display_data",
          "data": {
            "text/plain": [
              "<Figure size 432x288 with 1 Axes>"
            ],
            "image/png": "[encoded data removed]"
          },
          "metadata": {
            "needs_background": "light"
          }
        }
      ]
    },
    {
      "cell_type": "code",
      "source": [
        "model = keras.models.load_model(\"dance.keras\")\n",
        "test_loss, test_acc = model.evaluate(test_dataset)\n",
        "print(f\"Test accuracy: {test_acc:.3f}\")"
      ],
      "metadata": {
        "colab": {
          "base_uri": "https://localhost:8080/"
        },
        "id": "1Ol8PAXNdjsP",
        "outputId": "1279fc0c-6b4d-4478-e3fa-ef73fd61b72c"
      },
      "execution_count": null,
      "outputs": [
        {
          "output_type": "stream",
          "name": "stdout",
          "text": [
            "3/3 [==============================] - 0s 46ms/step - loss: 1.5438 - accuracy: 0.6757\n",
            "Test accuracy: 0.676\n"
          ]
        }
      ]
    },
    {
      "cell_type": "code",
      "source": [],
      "metadata": {
        "id": "UY5ypd7Aixfl"
      },
      "execution_count": null,
      "outputs": []
    }
  ]
}